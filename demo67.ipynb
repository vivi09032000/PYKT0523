{
 "cells": [
  {
   "cell_type": "code",
   "execution_count": 3,
   "id": "914e26e7",
   "metadata": {},
   "outputs": [
    {
     "name": "stdout",
     "output_type": "stream",
     "text": [
      "<class 'numpy.ndarray'>\n",
      "[  0   1   2   3   9  11  14  16  18  23  24  25  26  27  30  35  36  39\n",
      "  43  45  46  49  55  56  64  66  70  78  80  81  82  90  93  94 107 108\n",
      " 114 119 126 127 130 132 133 135 136 139 148 150 154 156 160 166 170 171\n",
      " 172 175 182 183 186 187 190 195 198 201 205 207 212 213 219 221 225 226\n",
      " 229 238 240 241 242 244 247 249 250 251 252 253 255]\n",
      "[0.         0.00392157 0.00784314 0.01176471 0.03529412 0.04313726\n",
      " 0.05490196 0.0627451  0.07058824 0.09019608 0.09411765 0.09803922\n",
      " 0.10196079 0.10588235 0.11764706 0.13725491 0.14117648 0.15294118\n",
      " 0.16862746 0.1764706  0.18039216 0.19215687 0.21568628 0.21960784\n",
      " 0.2509804  0.25882354 0.27450982 0.30588236 0.3137255  0.31764707\n",
      " 0.32156864 0.3529412  0.3647059  0.36862746 0.41960785 0.42352942\n",
      " 0.44705883 0.46666667 0.49411765 0.49803922 0.50980395 0.5176471\n",
      " 0.52156866 0.5294118  0.53333336 0.54509807 0.5803922  0.5882353\n",
      " 0.6039216  0.6117647  0.627451   0.6509804  0.6666667  0.67058825\n",
      " 0.6745098  0.6862745  0.7137255  0.7176471  0.7294118  0.73333335\n",
      " 0.74509805 0.7647059  0.7764706  0.7882353  0.8039216  0.8117647\n",
      " 0.83137256 0.8352941  0.85882354 0.8666667  0.88235295 0.8862745\n",
      " 0.8980392  0.93333334 0.9411765  0.94509804 0.9490196  0.95686275\n",
      " 0.96862745 0.9764706  0.98039216 0.9843137  0.9882353  0.99215686\n",
      " 1.        ]\n",
      "Model: \"sequential_2\"\n",
      "_________________________________________________________________\n",
      " Layer (type)                Output Shape              Param #   \n",
      "=================================================================\n",
      " dense_4 (Dense)             (None, 128)               100480    \n",
      "                                                                 \n",
      " dense_5 (Dense)             (None, 10)                1290      \n",
      "                                                                 \n",
      "=================================================================\n",
      "Total params: 101,770\n",
      "Trainable params: 101,770\n",
      "Non-trainable params: 0\n",
      "_________________________________________________________________\n",
      "Epoch 1/10\n",
      "1875/1875 [==============================] - 4s 2ms/step - loss: 0.2599 - accuracy: 0.9259\n",
      "Epoch 2/10\n",
      "1875/1875 [==============================] - 3s 2ms/step - loss: 0.1196 - accuracy: 0.9643\n",
      "Epoch 3/10\n",
      "1875/1875 [==============================] - 3s 2ms/step - loss: 0.0874 - accuracy: 0.9741\n",
      "Epoch 4/10\n",
      "1875/1875 [==============================] - 3s 2ms/step - loss: 0.0703 - accuracy: 0.9790\n",
      "Epoch 5/10\n",
      "1875/1875 [==============================] - 3s 2ms/step - loss: 0.0604 - accuracy: 0.9826\n",
      "Epoch 6/10\n",
      "1875/1875 [==============================] - 3s 2ms/step - loss: 0.0517 - accuracy: 0.9856\n",
      "Epoch 7/10\n",
      "1875/1875 [==============================] - 3s 2ms/step - loss: 0.0453 - accuracy: 0.9875\n",
      "Epoch 8/10\n",
      "1875/1875 [==============================] - 3s 2ms/step - loss: 0.0400 - accuracy: 0.9891\n",
      "Epoch 9/10\n",
      "1875/1875 [==============================] - 3s 2ms/step - loss: 0.0352 - accuracy: 0.9906\n",
      "Epoch 10/10\n",
      "1875/1875 [==============================] - 3s 2ms/step - loss: 0.0313 - accuracy: 0.9917\n",
      "Epoch 1/10\n",
      "1688/1688 [==============================] - 4s 2ms/step - loss: 0.0282 - accuracy: 0.9927 - val_loss: 0.0316 - val_accuracy: 0.9932\n",
      "Epoch 2/10\n",
      "1688/1688 [==============================] - 3s 2ms/step - loss: 0.0251 - accuracy: 0.9935 - val_loss: 0.0397 - val_accuracy: 0.9895\n",
      "Epoch 3/10\n",
      "1688/1688 [==============================] - 3s 2ms/step - loss: 0.0211 - accuracy: 0.9941 - val_loss: 0.0390 - val_accuracy: 0.9908\n",
      "Epoch 4/10\n",
      "1688/1688 [==============================] - 3s 2ms/step - loss: 0.0193 - accuracy: 0.9947 - val_loss: 0.0518 - val_accuracy: 0.9877\n",
      "Epoch 5/10\n",
      "1688/1688 [==============================] - 3s 2ms/step - loss: 0.0168 - accuracy: 0.9958 - val_loss: 0.0485 - val_accuracy: 0.9907\n",
      "Epoch 6/10\n",
      "1688/1688 [==============================] - 3s 2ms/step - loss: 0.0146 - accuracy: 0.9964 - val_loss: 0.0591 - val_accuracy: 0.9882\n",
      "Epoch 7/10\n",
      "1688/1688 [==============================] - 3s 2ms/step - loss: 0.0134 - accuracy: 0.9967 - val_loss: 0.0581 - val_accuracy: 0.9892\n",
      "Epoch 8/10\n",
      "1688/1688 [==============================] - 3s 2ms/step - loss: 0.0125 - accuracy: 0.9970 - val_loss: 0.0578 - val_accuracy: 0.9900\n",
      "Epoch 9/10\n",
      "1688/1688 [==============================] - 3s 2ms/step - loss: 0.0112 - accuracy: 0.9972 - val_loss: 0.0589 - val_accuracy: 0.9897\n",
      "Epoch 10/10\n",
      "1688/1688 [==============================] - 3s 2ms/step - loss: 0.0099 - accuracy: 0.9977 - val_loss: 0.0770 - val_accuracy: 0.9843\n"
     ]
    }
   ],
   "source": [
    "import keras\n",
    "from keras.datasets import mnist\n",
    "import tensorflow as tf\n",
    "import numpy as np\n",
    "from keras.models import Sequential\n",
    "from keras.layers import Dense\n",
    "from keras.callbacks import TensorBoard\n",
    "\n",
    "(train_images, train_labels), (test_images, test_labels) = mnist.load_data()\n",
    "FLATTEN_DIM = 28 * 28\n",
    "TRAINING_SIZE = len(train_images)\n",
    "TEST_SIZE = len(test_images)\n",
    "\n",
    "trainImages = np.reshape(train_images, (TRAINING_SIZE, FLATTEN_DIM))\n",
    "testImages = np.reshape(test_images, (TEST_SIZE, FLATTEN_DIM))\n",
    "print(type(trainImages[0]))\n",
    "print(np.unique(trainImages[0]))\n",
    "trainImages = trainImages.astype(np.float32)\n",
    "trainImages /= 255\n",
    "testImages = testImages.astype(np.float32)\n",
    "testImages /= 255\n",
    "print(np.unique(trainImages[0]))\n",
    "NUM_DIGITS = 10\n",
    "#轉換成矩陣\n",
    "trainLabels = keras.utils.to_categorical(train_labels, NUM_DIGITS)\n",
    "testLabels = keras.utils.to_categorical(test_labels, NUM_DIGITS)\n",
    "\n",
    "\n",
    "model = Sequential()\n",
    "model.add(Dense(128, input_shape=(FLATTEN_DIM,), activation=tf.nn.relu))\n",
    "model.add(Dense(10, activation=tf.nn.softmax))\n",
    "tb = TensorBoard(log_dir=\"logs/demo67\", write_graph=True, write_images=True)\n",
    "model.compile(loss='categorical_crossentropy', optimizer='rmsprop', metrics=['accuracy'])\n",
    "model.summary()\n",
    "\n",
    "model.fit(trainImages, trainLabels, epochs=10, callbacks=[tb])\n",
    "trainHistory = model.fit(trainImages, trainLabels, validation_split=0.1, epochs=10, callbacks=[tb])\n"
   ]
  },
  {
   "cell_type": "code",
   "execution_count": 5,
   "id": "57516f47",
   "metadata": {},
   "outputs": [
    {
     "data": {
      "text/plain": [
       "<matplotlib.legend.Legend at 0x17a84a576a0>"
      ]
     },
     "execution_count": 5,
     "metadata": {},
     "output_type": "execute_result"
    },
    {
     "data": {
      "image/png": "[encoded data removed]",
      "text/plain": [
       "<Figure size 432x288 with 1 Axes>"
      ]
     },
     "metadata": {
      "needs_background": "light"
     },
     "output_type": "display_data"
    }
   ],
   "source": [
    "from matplotlib import pyplot as plt\n",
    "plt.plot(trainHistory.history['accuracy'], color='red')\n",
    "plt.plot(trainHistory.history['val_accuracy'], color='green')\n",
    "plt.legend(['train','validation'])"
   ]
  },
  {
   "cell_type": "code",
   "execution_count": 6,
   "id": "4d3c3219",
   "metadata": {},
   "outputs": [
    {
     "name": "stdout",
     "output_type": "stream",
     "text": [
      "313/313 [==============================] - 0s 949us/step\n"
     ]
    },
    {
     "data": {
      "text/plain": [
       "array([7, 2, 1, 0, 4, 1, 4, 9, 5, 9], dtype=int64)"
      ]
     },
     "execution_count": 6,
     "metadata": {},
     "output_type": "execute_result"
    }
   ],
   "source": [
    "predictLabels = np.argmax(model.predict(testImages),axis=-1)\n",
    "predictLabels[:10]"
   ]
  },
  {
   "cell_type": "code",
   "execution_count": 9,
   "id": "a8ef58d3",
   "metadata": {},
   "outputs": [],
   "source": [
    "def plotTestImage(index):\n",
    "    plt.title(\"test image marked as:%d\" % test_labels[index])\n",
    "    plt.imshow(test_images[index], cmap='binary')\n",
    "    return plt"
   ]
  },
  {
   "cell_type": "code",
   "execution_count": 10,
   "id": "42b79344",
   "metadata": {},
   "outputs": [
    {
     "data": {
      "image/png": "[encoded data removed]",
      "text/plain": [
       "<Figure size 432x288 with 1 Axes>"
      ]
     },
     "metadata": {
      "needs_background": "light"
     },
     "output_type": "display_data"
    }
   ],
   "source": [
    "plotTestImage(0)"
   ]
  },
  {
   "cell_type": "code",
   "execution_count": 11,
   "id": "20304f95",
   "metadata": {},
   "outputs": [
    {
     "data": {
      "text/html": [
       "<div>\n",
       "<style scoped>\n",
       "    .dataframe tbody tr th:only-of-type {\n",
       "        vertical-align: middle;\n",
       "    }\n",
       "\n",
       "    .dataframe tbody tr th {\n",
       "        vertical-align: top;\n",
       "    }\n",
       "\n",
       "    .dataframe thead th {\n",
       "        text-align: right;\n",
       "    }\n",
       "</style>\n",
       "<table border=\"1\" class=\"dataframe\">\n",
       "  <thead>\n",
       "    <tr style=\"text-align: right;\">\n",
       "      <th>predict</th>\n",
       "      <th>0</th>\n",
       "      <th>1</th>\n",
       "      <th>2</th>\n",
       "      <th>3</th>\n",
       "      <th>4</th>\n",
       "      <th>5</th>\n",
       "      <th>6</th>\n",
       "      <th>7</th>\n",
       "      <th>8</th>\n",
       "      <th>9</th>\n",
       "    </tr>\n",
       "    <tr>\n",
       "      <th>label</th>\n",
       "      <th></th>\n",
       "      <th></th>\n",
       "      <th></th>\n",
       "      <th></th>\n",
       "      <th></th>\n",
       "      <th></th>\n",
       "      <th></th>\n",
       "      <th></th>\n",
       "      <th></th>\n",
       "      <th></th>\n",
       "    </tr>\n",
       "  </thead>\n",
       "  <tbody>\n",
       "    <tr>\n",
       "      <th>0</th>\n",
       "      <td>969</td>\n",
       "      <td>0</td>\n",
       "      <td>1</td>\n",
       "      <td>2</td>\n",
       "      <td>1</td>\n",
       "      <td>0</td>\n",
       "      <td>4</td>\n",
       "      <td>0</td>\n",
       "      <td>3</td>\n",
       "      <td>0</td>\n",
       "    </tr>\n",
       "    <tr>\n",
       "      <th>1</th>\n",
       "      <td>0</td>\n",
       "      <td>1114</td>\n",
       "      <td>3</td>\n",
       "      <td>5</td>\n",
       "      <td>0</td>\n",
       "      <td>1</td>\n",
       "      <td>1</td>\n",
       "      <td>0</td>\n",
       "      <td>11</td>\n",
       "      <td>0</td>\n",
       "    </tr>\n",
       "    <tr>\n",
       "      <th>2</th>\n",
       "      <td>1</td>\n",
       "      <td>1</td>\n",
       "      <td>996</td>\n",
       "      <td>10</td>\n",
       "      <td>7</td>\n",
       "      <td>0</td>\n",
       "      <td>4</td>\n",
       "      <td>2</td>\n",
       "      <td>11</td>\n",
       "      <td>0</td>\n",
       "    </tr>\n",
       "    <tr>\n",
       "      <th>3</th>\n",
       "      <td>0</td>\n",
       "      <td>0</td>\n",
       "      <td>5</td>\n",
       "      <td>1000</td>\n",
       "      <td>0</td>\n",
       "      <td>1</td>\n",
       "      <td>0</td>\n",
       "      <td>1</td>\n",
       "      <td>3</td>\n",
       "      <td>0</td>\n",
       "    </tr>\n",
       "    <tr>\n",
       "      <th>4</th>\n",
       "      <td>1</td>\n",
       "      <td>0</td>\n",
       "      <td>4</td>\n",
       "      <td>2</td>\n",
       "      <td>965</td>\n",
       "      <td>0</td>\n",
       "      <td>3</td>\n",
       "      <td>1</td>\n",
       "      <td>1</td>\n",
       "      <td>5</td>\n",
       "    </tr>\n",
       "    <tr>\n",
       "      <th>5</th>\n",
       "      <td>3</td>\n",
       "      <td>0</td>\n",
       "      <td>0</td>\n",
       "      <td>16</td>\n",
       "      <td>1</td>\n",
       "      <td>859</td>\n",
       "      <td>4</td>\n",
       "      <td>0</td>\n",
       "      <td>6</td>\n",
       "      <td>3</td>\n",
       "    </tr>\n",
       "    <tr>\n",
       "      <th>6</th>\n",
       "      <td>6</td>\n",
       "      <td>2</td>\n",
       "      <td>1</td>\n",
       "      <td>1</td>\n",
       "      <td>8</td>\n",
       "      <td>5</td>\n",
       "      <td>934</td>\n",
       "      <td>0</td>\n",
       "      <td>1</td>\n",
       "      <td>0</td>\n",
       "    </tr>\n",
       "    <tr>\n",
       "      <th>7</th>\n",
       "      <td>3</td>\n",
       "      <td>0</td>\n",
       "      <td>12</td>\n",
       "      <td>14</td>\n",
       "      <td>0</td>\n",
       "      <td>0</td>\n",
       "      <td>0</td>\n",
       "      <td>982</td>\n",
       "      <td>13</td>\n",
       "      <td>4</td>\n",
       "    </tr>\n",
       "    <tr>\n",
       "      <th>8</th>\n",
       "      <td>0</td>\n",
       "      <td>1</td>\n",
       "      <td>3</td>\n",
       "      <td>8</td>\n",
       "      <td>4</td>\n",
       "      <td>4</td>\n",
       "      <td>1</td>\n",
       "      <td>2</td>\n",
       "      <td>950</td>\n",
       "      <td>1</td>\n",
       "    </tr>\n",
       "    <tr>\n",
       "      <th>9</th>\n",
       "      <td>3</td>\n",
       "      <td>2</td>\n",
       "      <td>0</td>\n",
       "      <td>8</td>\n",
       "      <td>9</td>\n",
       "      <td>8</td>\n",
       "      <td>0</td>\n",
       "      <td>2</td>\n",
       "      <td>4</td>\n",
       "      <td>973</td>\n",
       "    </tr>\n",
       "  </tbody>\n",
       "</table>\n",
       "</div>"
      ],
      "text/plain": [
       "predict    0     1    2     3    4    5    6    7    8    9\n",
       "label                                                      \n",
       "0        969     0    1     2    1    0    4    0    3    0\n",
       "1          0  1114    3     5    0    1    1    0   11    0\n",
       "2          1     1  996    10    7    0    4    2   11    0\n",
       "3          0     0    5  1000    0    1    0    1    3    0\n",
       "4          1     0    4     2  965    0    3    1    1    5\n",
       "5          3     0    0    16    1  859    4    0    6    3\n",
       "6          6     2    1     1    8    5  934    0    1    0\n",
       "7          3     0   12    14    0    0    0  982   13    4\n",
       "8          0     1    3     8    4    4    1    2  950    1\n",
       "9          3     2    0     8    9    8    0    2    4  973"
      ]
     },
     "execution_count": 11,
     "metadata": {},
     "output_type": "execute_result"
    }
   ],
   "source": [
    "import pandas as pd\n",
    "pd.crosstab(test_labels, predictLabels, rownames=['label'], colnames=['predict'])"
   ]
  },
  {
   "cell_type": "code",
   "execution_count": 12,
   "id": "763f7517",
   "metadata": {},
   "outputs": [
    {
     "data": {
      "text/html": [
       "<div>\n",
       "<style scoped>\n",
       "    .dataframe tbody tr th:only-of-type {\n",
       "        vertical-align: middle;\n",
       "    }\n",
       "\n",
       "    .dataframe tbody tr th {\n",
       "        vertical-align: top;\n",
       "    }\n",
       "\n",
       "    .dataframe thead th {\n",
       "        text-align: right;\n",
       "    }\n",
       "</style>\n",
       "<table border=\"1\" class=\"dataframe\">\n",
       "  <thead>\n",
       "    <tr style=\"text-align: right;\">\n",
       "      <th></th>\n",
       "      <th>label</th>\n",
       "      <th>predict</th>\n",
       "    </tr>\n",
       "  </thead>\n",
       "  <tbody>\n",
       "    <tr>\n",
       "      <th>0</th>\n",
       "      <td>7</td>\n",
       "      <td>7</td>\n",
       "    </tr>\n",
       "    <tr>\n",
       "      <th>1</th>\n",
       "      <td>2</td>\n",
       "      <td>2</td>\n",
       "    </tr>\n",
       "    <tr>\n",
       "      <th>2</th>\n",
       "      <td>1</td>\n",
       "      <td>1</td>\n",
       "    </tr>\n",
       "    <tr>\n",
       "      <th>3</th>\n",
       "      <td>0</td>\n",
       "      <td>0</td>\n",
       "    </tr>\n",
       "    <tr>\n",
       "      <th>4</th>\n",
       "      <td>4</td>\n",
       "      <td>4</td>\n",
       "    </tr>\n",
       "    <tr>\n",
       "      <th>5</th>\n",
       "      <td>1</td>\n",
       "      <td>1</td>\n",
       "    </tr>\n",
       "    <tr>\n",
       "      <th>6</th>\n",
       "      <td>4</td>\n",
       "      <td>4</td>\n",
       "    </tr>\n",
       "    <tr>\n",
       "      <th>7</th>\n",
       "      <td>9</td>\n",
       "      <td>9</td>\n",
       "    </tr>\n",
       "    <tr>\n",
       "      <th>8</th>\n",
       "      <td>5</td>\n",
       "      <td>5</td>\n",
       "    </tr>\n",
       "    <tr>\n",
       "      <th>9</th>\n",
       "      <td>9</td>\n",
       "      <td>9</td>\n",
       "    </tr>\n",
       "  </tbody>\n",
       "</table>\n",
       "</div>"
      ],
      "text/plain": [
       "   label  predict\n",
       "0      7        7\n",
       "1      2        2\n",
       "2      1        1\n",
       "3      0        0\n",
       "4      4        4\n",
       "5      1        1\n",
       "6      4        4\n",
       "7      9        9\n",
       "8      5        5\n",
       "9      9        9"
      ]
     },
     "execution_count": 12,
     "metadata": {},
     "output_type": "execute_result"
    }
   ],
   "source": [
    "measure1 = pd.DataFrame({'label':test_labels, 'predict':predictLabels})\n",
    "measure1[:10]"
   ]
  },
  {
   "cell_type": "code",
   "execution_count": 15,
   "id": "7fdafc77",
   "metadata": {},
   "outputs": [],
   "source": [
    "errorindex = measure1[(measure1.label==7) & (measure1.predict==3)].index"
   ]
  },
  {
   "cell_type": "code",
   "execution_count": 16,
   "id": "3e65a7fb",
   "metadata": {},
   "outputs": [
    {
     "data": {
      "image/png": "[encoded data removed]",
      "text/plain": [
       "<Figure size 432x288 with 1 Axes>"
      ]
     },
     "metadata": {
      "needs_background": "light"
     },
     "output_type": "display_data"
    },
    {
     "data": {
      "image/png": "[encoded data removed]",
      "text/plain": [
       "<Figure size 432x288 with 1 Axes>"
      ]
     },
     "metadata": {
      "needs_background": "light"
     },
     "output_type": "display_data"
    },
    {
     "data": {
      "image/png": "[encoded data removed]",
      "text/plain": [
       "<Figure size 432x288 with 1 Axes>"
      ]
     },
     "metadata": {
      "needs_background": "light"
     },
     "output_type": "display_data"
    },
    {
     "data": {
      "image/png": "[encoded data removed]",
      "text/plain": [
       "<Figure size 432x288 with 1 Axes>"
      ]
     },
     "metadata": {
      "needs_background": "light"
     },
     "output_type": "display_data"
    },
    {
     "data": {
      "image/png": "[encoded data removed]",
      "text/plain": [
       "<Figure size 432x288 with 1 Axes>"
      ]
     },
     "metadata": {
      "needs_background": "light"
     },
     "output_type": "display_data"
    },
    {
     "data": {
      "image/png": "[encoded data removed]",
      "text/plain": [
       "<Figure size 432x288 with 1 Axes>"
      ]
     },
     "metadata": {
      "needs_background": "light"
     },
     "output_type": "display_data"
    },
    {
     "data": {
      "image/png": "[encoded data removed]",
      "text/plain": [
       "<Figure size 432x288 with 1 Axes>"
      ]
     },
     "metadata": {
      "needs_background": "light"
     },
     "output_type": "display_data"
    },
    {
     "data": {
      "image/png": "[encoded data removed]",
      "text/plain": [
       "<Figure size 432x288 with 1 Axes>"
      ]
     },
     "metadata": {
      "needs_background": "light"
     },
     "output_type": "display_data"
    },
    {
     "data": {
      "image/png": "[encoded data removed]",
      "text/plain": [
       "<Figure size 432x288 with 1 Axes>"
      ]
     },
     "metadata": {
      "needs_background": "light"
     },
     "output_type": "display_data"
    },
    {
     "data": {
      "image/png": "[encoded data removed]",
      "text/plain": [
       "<Figure size 432x288 with 1 Axes>"
      ]
     },
     "metadata": {
      "needs_background": "light"
     },
     "output_type": "display_data"
    },
    {
     "data": {
      "image/png": "[encoded data removed]",
      "text/plain": [
       "<Figure size 432x288 with 1 Axes>"
      ]
     },
     "metadata": {
      "needs_background": "light"
     },
     "output_type": "display_data"
    },
    {
     "data": {
      "image/png": "[encoded data removed]",
      "text/plain": [
       "<Figure size 432x288 with 1 Axes>"
      ]
     },
     "metadata": {
      "needs_background": "light"
     },
     "output_type": "display_data"
    },
    {
     "data": {
      "image/png": "[encoded data removed]",
      "text/plain": [
       "<Figure size 432x288 with 1 Axes>"
      ]
     },
     "metadata": {
      "needs_background": "light"
     },
     "output_type": "display_data"
    },
    {
     "data": {
      "image/png": "[encoded data removed]",
      "text/plain": [
       "<Figure size 432x288 with 1 Axes>"
      ]
     },
     "metadata": {
      "needs_background": "light"
     },
     "output_type": "display_data"
    }
   ],
   "source": [
    "for id in errorindex:\n",
    "    plotTestImage(id)\n",
    "    plt.show()"
   ]
  }
 ],
 "metadata": {
  "kernelspec": {
   "display_name": "Python 3 (ipykernel)",
   "language": "python",
   "name": "python3"
  },
  "language_info": {
   "codemirror_mode": {
    "name": "ipython",
    "version": 3
   },
   "file_extension": ".py",
   "mimetype": "text/x-python",
   "name": "python",
   "nbconvert_exporter": "python",
   "pygments_lexer": "ipython3",
   "version": "3.9.13"
  }
 },
 "nbformat": 4,
 "nbformat_minor": 5
}
